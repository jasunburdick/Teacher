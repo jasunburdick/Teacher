{
 "cells": [
  {
   "cell_type": "code",
   "execution_count": 1,
   "metadata": {
    "collapsed": false
   },
   "outputs": [],
   "source": [
    "# Guiding Question: In what ways does themal energy flow within the surroundings of a melting ice cube?\n",
    "# Date: \n",
    "# Period:"
   ]
  },
  {
   "cell_type": "code",
   "execution_count": 2,
   "metadata": {
    "collapsed": false
   },
   "outputs": [],
   "source": [
    "# Importing libraries that we will use later\n",
    "import pandas as pd  # algebra, random number generation, databases, and managing data.\n",
    "import numpy as np\n",
    "import scipy as sp\n",
    "import matplotlib.pyplot as plt\n",
    "%matplotlib inline \n",
    "from ipywidgets import widgets"
   ]
  },
  {
   "cell_type": "code",
   "execution_count": 15,
   "metadata": {
    "collapsed": false
   },
   "outputs": [
    {
     "name": "stdout",
     "output_type": "stream",
     "text": [
      "Samples: 2\n",
      "Independent Variable (units)asdf\n",
      "1\n",
      "2\n",
      "Dependent Variable (units)fdas\n",
      "3\n",
      "4\n",
      "[[1.0, 2.0], [3.0, 4.0]]\n",
      "asdf\n",
      "length of table 2 Mean of Y 3.5 Standard Deviation 0.5\n"
     ]
    }
   ],
   "source": [
    "# Input your x = independent and y = dependent variable\n",
    "\n",
    "xValues = []\n",
    "yValues = []\n",
    "    \n",
    "samples = int(input(\"Samples: \"))\n",
    "for i in range (0,2):\n",
    "    if i == 0:\n",
    "        xAxis = input(\"Independent Variable (units)\")\n",
    "    else:\n",
    "        yAxis = input(\"Dependent Variable (units)\")\n",
    "    for j in range (0,samples):\n",
    "        data = float(input())\n",
    "        if i == 0:\n",
    "            xValues.append(data)\n",
    "        else:\n",
    "            yValues.append(data)\n",
    "\n",
    "xyValues = [xValues,yValues]\n",
    "print (xyValues)\n",
    "print (xAxis)\n",
    "print (\"length of table\", len(xValues), \"Mean of Y\", float(np.mean(yValues)), \"Standard Deviation\", float(np.std(yValues)))\n"
   ]
  },
  {
   "cell_type": "code",
   "execution_count": 16,
   "metadata": {
    "collapsed": false
   },
   "outputs": [
    {
     "data": {
      "image/png": "[encoded data removed]",
      "text/plain": [
       "<matplotlib.figure.Figure at 0x9633320>"
      ]
     },
     "metadata": {},
     "output_type": "display_data"
    }
   ],
   "source": [
    "def plotofdata():\n",
    "    lines = plt.plot(xValues,yValues)\n",
    "    plt.setp(lines, color='r', linewidth=6.0)\n",
    "    #plt.axis([0, 6, 0, 20])             # scale on x and y axis\n",
    "    plt.title(\"Title of Graph\")\n",
    "    plt.xlabel(xAxis)\n",
    "    plt.ylabel(yAxis)\n",
    "    #plt.yscale('linear')               # change the scale of the axis\n",
    "    plt.draw()\n",
    "    plt.show()\n",
    "    \n",
    "plotofdata()"
   ]
  },
  {
   "cell_type": "code",
   "execution_count": 5,
   "metadata": {
    "collapsed": false
   },
   "outputs": [
    {
     "data": {
      "image/png": "[encoded data removed]",
      "text/plain": [
       "<matplotlib.figure.Figure at 0x4770320>"
      ]
     },
     "metadata": {},
     "output_type": "display_data"
    }
   ],
   "source": [
    "t1 = xValues\n",
    "t2 = yValues\n",
    "plt.figure(1)\n",
    "plt.subplot(211)            # 211 is the start for python?\n",
    "plt.plot(t1)\n",
    "\n",
    "plt.subplot(212)\n",
    "plt.plot(t2)\n",
    "plt.show()"
   ]
  },
  {
   "cell_type": "markdown",
   "metadata": {},
   "source": [
    "Our Evidence: Analysis of why this data is important"
   ]
  },
  {
   "cell_type": "markdown",
   "metadata": {},
   "source": [
    "Our Reasoning:  How the evidence supports of doesn't the claim.  Use key terms, theories, Laws, or other to support your claim."
   ]
  },
  {
   "cell_type": "markdown",
   "metadata": {},
   "source": []
  }
 ],
 "metadata": {
  "anaconda-cloud": {},
  "kernelspec": {
   "display_name": "Python [Root]",
   "language": "python",
   "name": "Python [Root]"
  },
  "language_info": {
   "codemirror_mode": {
    "name": "ipython",
    "version": 3
   },
   "file_extension": ".py",
   "mimetype": "text/x-python",
   "name": "python",
   "nbconvert_exporter": "python",
   "pygments_lexer": "ipython3",
   "version": "3.5.2"
  }
 },
 "nbformat": 4,
 "nbformat_minor": 0
}
