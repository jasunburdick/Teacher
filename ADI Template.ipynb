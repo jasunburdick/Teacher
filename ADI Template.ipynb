{
 "cells": [
  {
   "cell_type": "code",
   "execution_count": 1,
   "metadata": {
    "collapsed": false
   },
   "outputs": [],
   "source": [
    "# Guiding Question: In what ways does themal energy flow within the surroundings of a melting ice cube?\n",
    "# Date: \n",
    "# Period:"
   ]
  },
  {
   "cell_type": "code",
   "execution_count": 2,
   "metadata": {
    "collapsed": false
   },
   "outputs": [],
   "source": [
    "# Importing libraries that we will use later\n",
    "import pandas as pd  # algebra, random number generation, databases, and managing data.\n",
    "import numpy as np\n",
    "import scipy as sp\n",
    "import matplotlib.pyplot as plt\n",
    "from ipywidgets import widgets"
   ]
  },
  {
   "cell_type": "code",
   "execution_count": 30,
   "metadata": {
    "collapsed": false
   },
   "outputs": [
    {
     "name": "stdout",
     "output_type": "stream",
     "text": [
      "Samples: 5\n",
      "Independent Variable (units))asdf\n",
      "1\n",
      "2\n",
      "3\n",
      "4\n",
      "5\n",
      "Dependent Variable (units))6\n",
      "1\n",
      "2\n",
      "3\n",
      "4\n",
      "5\n",
      "[[1.0, 2.0, 3.0, 4.0, 5.0], [1.0, 2.0, 3.0, 4.0, 5.0]]\n"
     ]
    },
    {
     "ename": "NameError",
     "evalue": "name 'xlabel' is not defined",
     "output_type": "error",
     "traceback": [
      "\u001b[1;31m---------------------------------------------------------------------------\u001b[0m",
      "\u001b[1;31mNameError\u001b[0m                                 Traceback (most recent call last)",
      "\u001b[1;32m<ipython-input-30-7123762c9d3f>\u001b[0m in \u001b[0;36m<module>\u001b[1;34m()\u001b[0m\n\u001b[0;32m     22\u001b[0m \u001b[0mxyvalues\u001b[0m \u001b[1;33m=\u001b[0m \u001b[1;33m[\u001b[0m\u001b[0mxvalues\u001b[0m\u001b[1;33m,\u001b[0m\u001b[0myvalues\u001b[0m\u001b[1;33m]\u001b[0m\u001b[1;33m\u001b[0m\u001b[0m\n\u001b[0;32m     23\u001b[0m \u001b[0mprint\u001b[0m \u001b[1;33m(\u001b[0m\u001b[0mxyvalues\u001b[0m\u001b[1;33m)\u001b[0m\u001b[1;33m\u001b[0m\u001b[0m\n\u001b[1;32m---> 24\u001b[1;33m \u001b[0mprint\u001b[0m \u001b[1;33m(\u001b[0m\u001b[0mxlabel\u001b[0m\u001b[1;33m)\u001b[0m\u001b[1;33m\u001b[0m\u001b[0m\n\u001b[0m\u001b[0;32m     25\u001b[0m \u001b[0mprint\u001b[0m \u001b[1;33m(\u001b[0m\u001b[1;34m\"length of table\"\u001b[0m\u001b[1;33m,\u001b[0m \u001b[0mlen\u001b[0m\u001b[1;33m(\u001b[0m\u001b[0mxvalues\u001b[0m\u001b[1;33m)\u001b[0m\u001b[1;33m,\u001b[0m \u001b[1;34m\"Mean of Y\"\u001b[0m\u001b[1;33m,\u001b[0m \u001b[0mfloat\u001b[0m\u001b[1;33m(\u001b[0m\u001b[0mnp\u001b[0m\u001b[1;33m.\u001b[0m\u001b[0mmean\u001b[0m\u001b[1;33m(\u001b[0m\u001b[0myvalues\u001b[0m\u001b[1;33m)\u001b[0m\u001b[1;33m)\u001b[0m\u001b[1;33m,\u001b[0m \u001b[1;34m\"Standard Deviation\"\u001b[0m\u001b[1;33m,\u001b[0m \u001b[0mfloat\u001b[0m\u001b[1;33m(\u001b[0m\u001b[0mnp\u001b[0m\u001b[1;33m.\u001b[0m\u001b[0mstd\u001b[0m\u001b[1;33m(\u001b[0m\u001b[0myvalues\u001b[0m\u001b[1;33m)\u001b[0m\u001b[1;33m)\u001b[0m\u001b[1;33m)\u001b[0m\u001b[1;33m\u001b[0m\u001b[0m\n",
      "\u001b[1;31mNameError\u001b[0m: name 'xlabel' is not defined"
     ]
    }
   ],
   "source": [
    "# Input your x = independent and y = dependent variable\n",
    "\n",
    "xvalues = []\n",
    "yvalues = []\n",
    "\n",
    "def inputData():\n",
    "    \n",
    "    samples = int(input(\"Samples: \"))\n",
    "    for i in range (0,2):\n",
    "        if i == 0:\n",
    "            xlabel = str(input(\"Independent Variable (units))\"))\n",
    "        else:\n",
    "            ylabel = str(input(\"Dependent Variable (units))\"))\n",
    "        for j in range (0,samples):\n",
    "            data = float(input())\n",
    "            if i == 0:\n",
    "                xvalues.append(data)\n",
    "            else:\n",
    "                yvalues.append(data)\n",
    "\n",
    "inputData()\n",
    "xyvalues = [xvalues,yvalues]\n",
    "print (xyvalues)\n",
    "print (xlabel)\n",
    "print (\"length of table\", len(xvalues), \"Mean of Y\", float(np.mean(yvalues)), \"Standard Deviation\", float(np.std(yvalues)))\n"
   ]
  },
  {
   "cell_type": "markdown",
   "metadata": {},
   "source": [
    "###### def plotofdata():\n",
    "    lines = plt.plot(xvalues,yvalues)\n",
    "    plt.setp(lines, color='r', linewidth=6.0)\n",
    "    plt.axis([0, 6, 0, 20])             # scale on x and y axis\n",
    "    plt.title(\"Title of Graph\")\n",
    "    plt.xlabel(xlabel)\n",
    "    plt.ylabel(ylabel)\n",
    "    #plt.yscale('linear')               # change the scale of the axis\n",
    "    plt.draw()\n",
    "    plt.show()\n",
    "    \n",
    "plotofdata()"
   ]
  },
  {
   "cell_type": "code",
   "execution_count": null,
   "metadata": {
    "collapsed": false
   },
   "outputs": [],
   "source": [
    "t1 = xvalues\n",
    "t2 = yvalues\n",
    "plt.figure(1)\n",
    "plt.subplot(211)            # 211 is the start for python?\n",
    "plt.plot(t1)\n",
    "\n",
    "plt.subplot(212)\n",
    "plt.plot(t2)\n",
    "plt.show()"
   ]
  },
  {
   "cell_type": "markdown",
   "metadata": {},
   "source": [
    "Our Evidence: Analysis of why this data is important"
   ]
  },
  {
   "cell_type": "markdown",
   "metadata": {},
   "source": [
    "Our Reasoning:  How the evidence supports of doesn't the claim.  Use key terms, theories, Laws, or other to support your claim."
   ]
  },
  {
   "cell_type": "markdown",
   "metadata": {},
   "source": []
  }
 ],
 "metadata": {
  "anaconda-cloud": {},
  "kernelspec": {
   "display_name": "Python [Root]",
   "language": "python",
   "name": "Python [Root]"
  },
  "language_info": {
   "codemirror_mode": {
    "name": "ipython",
    "version": 3
   },
   "file_extension": ".py",
   "mimetype": "text/x-python",
   "name": "python",
   "nbconvert_exporter": "python",
   "pygments_lexer": "ipython3",
   "version": "3.5.2"
  }
 },
 "nbformat": 4,
 "nbformat_minor": 0
}
