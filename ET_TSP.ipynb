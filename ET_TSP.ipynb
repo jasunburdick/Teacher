{
  "nbformat": 4,
  "nbformat_minor": 0,
  "metadata": {
    "colab": {
      "provenance": [],
      "authorship_tag": "ABX9TyMRYpkWRrxlPoAh00i/rHwN",
      "include_colab_link": true
    },
    "kernelspec": {
      "name": "python3",
      "display_name": "Python 3"
    },
    "language_info": {
      "name": "python"
    }
  },
  "cells": [
    {
      "cell_type": "markdown",
      "metadata": {
        "id": "view-in-github",
        "colab_type": "text"
      },
      "source": [
        "<a href=\"https://colab.research.google.com/github/jasunburdick/Teacher/blob/master/ET_TSP.ipynb\" target=\"_parent\"><img src=\"https://colab.research.google.com/assets/colab-badge.svg\" alt=\"Open In Colab\"/></a>"
      ]
    },
    {
      "cell_type": "code",
      "source": [
        "# This first section is just for practice to show you what Python can do\n",
        "# These are comments they look green and are not part of the code just used to help document\n",
        "# Comment lines start with a #\n",
        "\n",
        "# In this document the symbol \"# # #\" is used to help you find sections of the code to change\n",
        "# In the name variable below, remove the name Jane and type your name, leave the quotes\n",
        "# Hit the play button at the left and look at the bottom of this section\n",
        "# Feel free to change anything in this section it will not affect anything below\n",
        "# Remove the # in front of the third print statement to make it work\n",
        "# Experiment and continue after this lab to keep learning. https://www.learnpython.org/\n",
        "\n",
        "# # # # # # # # # #\n",
        "name = \"jasun\"\n",
        "print(\"Hi \" + name + \", Lets explore python and the Traveling Salesman Problem.\")\n",
        "print(\"Python does math: 2 + 2 =\", 2+2)\n",
        "print(\"Make your own \" + \"commas seperate data types.\", 1 == 1)\n",
        "# # # # # # # # # #"
      ],
      "metadata": {
        "id": "_0z-vYi50Uho",
        "colab": {
          "base_uri": "https://localhost:8080/"
        },
        "outputId": "7a88d9d1-665b-4f8f-ec0a-77f747444564"
      },
      "execution_count": 2,
      "outputs": [
        {
          "output_type": "stream",
          "name": "stdout",
          "text": [
            "Hi jasun, Lets explore python and the Traveling Salesman Problem.\n",
            "Python does math: 2 + 2 = 4\n",
            "Make your own commas seperate data types. True\n"
          ]
        }
      ]
    },
    {
      "cell_type": "markdown",
      "source": [
        "## Section 1: Setting up the file and city locations\n",
        "\n",
        "*   To begin make a new file by clicking on the folder icon at the left and then right clicking under the sample data folder to create a new file\n",
        "*   Name the file \"cities.txt\" without the quotes.  Hit enter then double click the file name\n",
        "*   Copy paste the highlighted city data from the TSP spreadsheet (location, x, y) into the cities.txt file in the right frame\n",
        "*   Begin running all the play buttons next to each section.  Read the comments in green to help understand what each section is doing.  You may get a warning about reading files.\n",
        "\n"
      ],
      "metadata": {
        "id": "8YzlLXRR64Uv"
      }
    },
    {
      "cell_type": "code",
      "source": [
        "# This imports a math library so we can do square roots later\n",
        "import math\n",
        "\n",
        "# Opens the cities.txt file and read it into variable f\n",
        "f = open(\"cities.txt\", \"r\")\n",
        "\n",
        "# This defines the distance between any two cities using the Pythagorean Theorem\n",
        "# This will be used later in two different sections\n",
        "def distance(a,b):\n",
        "  x1, y1 = cityList[a][1], cityList[a][2]\n",
        "  x2, y2 = cityList[b][1], cityList[b][2]\n",
        "  # Here we use the math library's sqrt function\n",
        "  dist = math.sqrt((y2 - y1)**2 + (x2 - x1)**2)\n",
        "  # End of function: Return the distance\n",
        "  return dist\n",
        "\n",
        "# This turns the city.txt file data into a list called cityArray\n",
        "cityList = []\n",
        "for loc in f:\n",
        "  loc = loc.replace(\"\\n\", \"\")\n",
        "  loc = loc.split('\t')\n",
        "  loc[1] = float(loc[1])\n",
        "  loc[2] = float(loc[2])\n",
        "  cityList.append(loc)\n",
        "\n",
        "# Prints the list of cities and locations\n",
        "print(\"Here is the list of cities:\", cityList)\n",
        "print(\"Number of cities:\", len(cityList))"
      ],
      "metadata": {
        "colab": {
          "base_uri": "https://localhost:8080/"
        },
        "id": "yEktKav8dJ7k",
        "outputId": "3eafa088-9e90-4a32-890d-636f0e0f85f1"
      },
      "execution_count": 3,
      "outputs": [
        {
          "output_type": "stream",
          "name": "stdout",
          "text": [
            "Here is the list of cities: [['a', 4.0, 2.0], ['b', 5.0, 9.0], ['c', 3.0, -1.0], ['d', 7.0, -4.0], ['e', 18.0, -9.0], ['f', 2.0, 10.0], ['g', 5.0, 8.0]]\n",
            "Number of cities: 7\n"
          ]
        }
      ]
    },
    {
      "cell_type": "markdown",
      "source": [
        "# Section 2: Path Predictions.\n",
        "\n",
        "The variable \"order\" has a string of numbers which represent the order to visit the cities.\n",
        "Change the order to match your prediction keep city 1 first.\n",
        "\n"
      ],
      "metadata": {
        "id": "bIAzJrMdcplc"
      }
    },
    {
      "cell_type": "code",
      "source": [
        "# This is the predicted order to visit the cities feel free to change this\n",
        "# If you have 5 cities place the numbers 1-5 in the correct order to visit\n",
        "# Examples: 1,2,3,4,5 or 1,3,5,2,4 or 1,5,3,4,2\n",
        "# If you have more or less cities change the amount of numbers\n",
        "# Run the play button at the left and look at the path distance at the bottom of this section\n",
        "# Keep trying till you find the shortest path\n",
        "\n",
        "# # # # # # # # #\n",
        "order = \"1,3,4,2,5,6,7\"   # Change these numbers, make sure you use commas and quotes around the outside\n",
        "# # # # # # # # #\n",
        "\n",
        "# Convert string to list of integers and subtract 1 for list position\n",
        "order = order.split(',')\n",
        "for i in range(len(order)):\n",
        "  order[i] = int(order[i])-1\n",
        "\n",
        "# Calculates path distance based on order given\n",
        "pathDistance = 0\n",
        "for i in range(len(order)-1):\n",
        "  pathDistance += distance(order[i], order[i+1])     # Use the distance formula and add it to the path distance\n",
        "pathDistance += distance(order[-1], order[0])        # This is the last path back to the beginning start\n",
        "\n",
        "for i in range(len(order)):\n",
        "  print(cityList[order[i]])\n",
        "print(\"Path Distance: \", pathDistance)\n"
      ],
      "metadata": {
        "colab": {
          "base_uri": "https://localhost:8080/"
        },
        "id": "l_VT4Efnidwy",
        "outputId": "baad7646-406c-4d7a-e6ac-af9303439fa9"
      },
      "execution_count": 4,
      "outputs": [
        {
          "output_type": "stream",
          "name": "stdout",
          "text": [
            "['a', 4.0, 2.0]\n",
            "['c', 3.0, -1.0]\n",
            "['d', 7.0, -4.0]\n",
            "['b', 5.0, 9.0]\n",
            "['e', 18.0, -9.0]\n",
            "['f', 2.0, 10.0]\n",
            "['g', 5.0, 8.0]\n",
            "Path Distance:  78.04662591181946\n"
          ]
        }
      ]
    },
    {
      "cell_type": "markdown",
      "source": [
        "# Section 3: This creates all the unique possible paths.\n",
        "The number of cities (numCities) is currently based of how many cites are in the file.\n",
        "\n",
        "Change the variable numCities between 3 and 11 cities.\n",
        "As you add a city there are more possible paths.\n",
        "\n",
        "Look at how long each simulation takes to run as you approach 11 cities.\n",
        "What happens if you try 12?\n"
      ],
      "metadata": {
        "id": "hMBAJlCdqodn"
      }
    },
    {
      "cell_type": "code",
      "source": [
        "# Generate all unique paths (n-1)!/2\n",
        "# Import time and permutations function\n",
        "import time\n",
        "from itertools import permutations\n",
        "\n",
        "# Record the current simulation time\n",
        "currentTime = time.time()\n",
        "\n",
        "# # # # # # # # # #\n",
        "# When your done with the lab.  Remove \"len(cityList)\" and replace with a number between 3 and 11\n",
        "# numCities = 5\n",
        "# At the bottom of the section it calculates how long the algorithm takes to run.\n",
        "# Pay attention to the simulation run time as you increase the number of cities.  What happens at 12 cities?\n",
        "\n",
        "numCities = len(cityList)\n",
        "# # # # # # # # # #\n",
        "\n",
        "# Creates the list order with a number for each city (1,2,3,...)\n",
        "order = []\n",
        "for i in range(numCities):\n",
        "  order.append(i+1)\n",
        "\n",
        "# Creates all the possible paths\n",
        "paths = list(permutations(order, len(order)))\n",
        "\n",
        "# Removes paths that don't start at position 1 or are the same path reversed\n",
        "newPaths = []\n",
        "pathDict = {}\n",
        "for i in range(len(paths)):\n",
        "  if paths[i][0] == 1:\n",
        "    x = list(paths[i][1:len(paths[i])])\n",
        "    x.reverse()\n",
        "    x = tuple(x)\n",
        "    if x not in pathDict.keys():\n",
        "      pathDict[paths[i][1:len(paths[i])]] = str(i)\n",
        "      newPaths.append(paths[i])\n",
        "\n",
        "# Returns newPaths into paths and prints the number of paths\n",
        "paths = newPaths\n",
        "print(\"Number of unique paths: \", len(paths))\n",
        "\n",
        "# Print run time\n",
        "print(\"Algorithm Run time: \", time.time()-currentTime)\n",
        "\n",
        "# # # # # # # # # #\n",
        "# This section is commented out at the beginning.\n",
        "# Uncomment the 2 lines below if you want to see all the paths\n",
        "# for i in paths:\n",
        "#   print(i)"
      ],
      "metadata": {
        "colab": {
          "base_uri": "https://localhost:8080/"
        },
        "id": "2U0oEWu77Oyy",
        "outputId": "2a690208-0270-4668-9b74-b4fd00640b4d"
      },
      "execution_count": 10,
      "outputs": [
        {
          "output_type": "stream",
          "name": "stdout",
          "text": [
            "Number of unique paths:  360\n",
            "Algorithm Run time:  0.010468482971191406\n"
          ]
        }
      ]
    },
    {
      "cell_type": "markdown",
      "source": [
        "# Section 4: Calculates the lengths of all paths and store it in the lengths variable.\n",
        "Finds the minium distance and the path that creates it.\n",
        "Creates a histogram of all the distances"
      ],
      "metadata": {
        "id": "ZbASYl9Trqi-"
      }
    },
    {
      "cell_type": "code",
      "source": [
        "lengths = []\n",
        "for h in range(len(paths)):\n",
        "  pathDistance = 0\n",
        "  for i in range(len(paths[h])-1):\n",
        "    pathDistance += distance(paths[h][i]-1, paths[h][i+1]-1)\n",
        "  pathDistance += distance(paths[h][-1]-1, 0)\n",
        "  lengths.append(pathDistance)\n",
        "\n",
        "# Finds the shortest path in the list\n",
        "minDistance = min(lengths)\n",
        "print(\"Shortest Path Distance: \", minDistance)\n",
        "\n",
        "# # # # # # # # # #\n",
        "# This is the shortest path below, uncomment to find the shortest path (remove the #)\n",
        "# You may also find the reverse of this path\n",
        "# print(\"Shortest path: \", paths[lengths.index(minDistance)])\n",
        "# # # # # # # # # #\n",
        "\n",
        "# Inports the ploting and np libraries\n",
        "from matplotlib import pyplot as plt\n",
        "import numpy as np\n",
        "\n",
        "# Creates a histogram of distances\n",
        "a = np.array(lengths)\n",
        "plt.hist(a, bins = 10)\n",
        "plt.title(\"Histogram of Distances\")\n",
        "plt.show()"
      ],
      "metadata": {
        "colab": {
          "base_uri": "https://localhost:8080/",
          "height": 469
        },
        "id": "SnuZ4OQsoYsT",
        "outputId": "bf71fe7b-05d9-4323-910b-499a6379537a"
      },
      "execution_count": 11,
      "outputs": [
        {
          "output_type": "stream",
          "name": "stdout",
          "text": [
            "Shortest Path Distance:  54.05474710419934\n"
          ]
        },
        {
          "output_type": "display_data",
          "data": {
            "text/plain": [
              "<Figure size 640x480 with 1 Axes>"
            ],
            "image/png": "[encoded data removed]"
          },
          "metadata": {}
        }
      ]
    }
  ]
}